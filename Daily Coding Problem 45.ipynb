{
 "cells": [
  {
   "cell_type": "markdown",
   "id": "67be4720",
   "metadata": {},
   "source": [
    "# Daily Coding Problem 45"
   ]
  },
  {
   "cell_type": "raw",
   "id": "8ceadbf8",
   "metadata": {},
   "source": [
    "This problem was asked by Two Sigma.\n",
    "\n",
    "Using a function rand5() that returns an integer from 1 to 5 (inclusive) with uniform probability, implement a function rand7() that returns an integer from 1 to 7 (inclusive).\n",
    "\n"
   ]
  },
  {
   "cell_type": "raw",
   "id": "5f93202e",
   "metadata": {},
   "source": [
    "# Solution\n",
    "\n",
    "We can solve this by computing rand5() twice. This gives us more than 7 options to choose from. However, we must be careful not to take the sum or product of the results -- this can skew the probability distribution. Consider that there's only one way to make 2 from two rand5s but two ways to make 3.\n",
    "\n",
    "So we must consider each distinct pair of rand5() results. This gives us 5^2 = 25 different ways to pick from, each uniformly distributed. Ideally, we would divide these by 7, but no power of 5 is also a multiple of 7 (consider the prime factorization of 5^N), so we will have to make do. For our solution, we'll make a table of results:\n",
    "\n",
    "    1\t2\t3\t4\t5\n",
    "1\t1\t1\t1\t6\t7\n",
    "2\t2\t2\t2\t6\t7\n",
    "3\t3\t3\t3\t6\t7\n",
    "4\t4\t4\t4\tR\tR\n",
    "5\t5\t5\t5\tR\tR\n",
    "\n",
    "R means we need to reroll."
   ]
  },
  {
   "cell_type": "code",
   "execution_count": 1,
   "id": "d3984496",
   "metadata": {},
   "outputs": [],
   "source": [
    "def rand7():\n",
    "    r1, r2 = rand5(), rand5()\n",
    "    if r2 <= 3:\n",
    "        return r1\n",
    "    elif r2 == 4:\n",
    "        if r1 <= 3:\n",
    "            return 6\n",
    "        else:\n",
    "            return rand7()\n",
    "    else: # r2 == 5\n",
    "        if r1 <= 3:\n",
    "            return 7\n",
    "        else:\n",
    "            return rand7()"
   ]
  },
  {
   "cell_type": "markdown",
   "id": "9b7def87",
   "metadata": {},
   "source": [
    "This method has a potentially infinite runtime, since it's possible that we always roll the cases where we need to reroll.\n",
    "\n"
   ]
  },
  {
   "cell_type": "code",
   "execution_count": null,
   "id": "d7ce7792",
   "metadata": {},
   "outputs": [],
   "source": []
  }
 ],
 "metadata": {
  "kernelspec": {
   "display_name": "Python 3 (ipykernel)",
   "language": "python",
   "name": "python3"
  },
  "language_info": {
   "codemirror_mode": {
    "name": "ipython",
    "version": 3
   },
   "file_extension": ".py",
   "mimetype": "text/x-python",
   "name": "python",
   "nbconvert_exporter": "python",
   "pygments_lexer": "ipython3",
   "version": "3.8.10"
  }
 },
 "nbformat": 4,
 "nbformat_minor": 5
}
